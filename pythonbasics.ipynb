{
  "nbformat": 4,
  "nbformat_minor": 0,
  "metadata": {
    "colab": {
      "provenance": []
    },
    "kernelspec": {
      "name": "python3",
      "display_name": "Python 3"
    },
    "language_info": {
      "name": "python"
    }
  },
  "cells": [
    {
      "cell_type": "code",
      "execution_count": null,
      "metadata": {
        "id": "Yky5ff31sPrx"
      },
      "outputs": [],
      "source": []
    },
    {
      "cell_type": "markdown",
      "source": [
        "#Python Basics Theory\n",
        "\n",
        "1. What is Python, and why is it popular?\n",
        " - Python is a high-level, interpreted programming language known for its simplicity and readability. It was developed by Guido van Rossum and released in 1991. Python is popular because it emphasizes code readability through its clean and straightforward syntax, allowing developers to write fewer lines of code compared to other programming languages. Its versatility makes it suitable for various applications, including web development, data analysis, artificial intelligence, machine learning, and more. Additionally, Python has a vast standard library and an active community that supports extensive third-party modules, making it a preferred choice for beginners and experts alike.\n",
        "\n",
        "2. What is an interpreter in Python?\n",
        " - An interpreter in Python is a program that directly executes the instructions written in Python code. Unlike a compiler, which translates code into machine language before execution, the Python interpreter processes the code line by line. This enables real-time error detection and facilitates quick debugging, making it especially useful for scripting and rapid application development. The interpreter also converts the high-level code into intermediate bytecode, which is then executed by the Python Virtual Machine (PVM).\n",
        "\n",
        "3. What are pre-defined keywords in Python?\n",
        "- Pre-defined keywords in Python are reserved words that have a specific meaning and purpose within the language. These keywords are part of Python’s syntax and cannot be used for any other purpose, such as naming variables or functions. Examples of Python keywords include if, else, while, True, False, def, and return. They act as building blocks for Python programs, helping structure logic, define functions, and control program flow.\n",
        "\n",
        "4. Can keywords be used as variable names?\n",
        "- No, keywords cannot be used as variable names in Python. Since keywords have a predefined role in the language, using them as variable names would lead to syntax errors. For instance, attempting to name a variable if or def would result in an error because these words are reserved for conditional statements and function definitions, respectively.\n",
        "\n",
        "5. What is mutability in Python?\n",
        "- Mutability in Python refers to an object’s ability to be modified after its creation. Mutable objects allow changes to their content, whereas immutable objects do not. For example, lists and dictionaries are mutable, meaning their elements can be altered or updated. In contrast, strings and tuples are immutable, meaning their contents cannot be modified after they are created. Understanding mutability is essential when managing data and ensuring program behavior aligns with expectations.\n",
        "\n",
        "6. Why are lists mutable, but tuples are immutable?\n",
        "- Lists are mutable because they are designed to allow modifications, making them ideal for scenarios where data needs to be dynamically updated. This includes adding, removing, or changing elements. On the other hand, tuples are immutable by design to provide data stability. This immutability ensures that once a tuple is created, its content remains constant, making it useful for fixed collections of data where reliability and integrity are essential.\n",
        "\n",
        "7. What is the difference between == and is operators in Python?\n",
        "- The == operator checks whether the values of two objects are equal, whereas the is operator checks whether two objects refer to the same memory location.\n",
        "\n",
        "==: Compares the content of the objects.\n",
        "is: Compares the identity of the objects (memory address).\n",
        "For example, two separate lists with the same content will be considered equal (==), but they will not be identical (is) because they occupy different memory locations.\n",
        "8. What are logical operators in Python?\n",
        "- Logical operators in Python are used to combine multiple conditions or expressions and evaluate them collectively. These operators are:\n",
        "\n",
        "and: Returns True if both conditions are true.\n",
        "or: Returns True if at least one condition is true.\n",
        "not: Reverses the logical value of a condition.\n",
        "Logical operators are frequently used in decision-making and loops to control program flow based on multiple criteria.\n",
        "\n",
        "9. What is type casting in Python?\n",
        "- Type casting in Python is the process of converting one data type into another. This is useful when operations require data to be in a specific format. For instance, converting a string representing a number into an integer allows numerical operations on the value. Type casting can be performed using functions like int(), float(), str(), etc.\n",
        "\n",
        "10. What is the difference between implicit and explicit type casting?\n",
        "- Implicit type casting occurs automatically when Python converts one data type to another during an operation. For example, adding an integer to a float will automatically convert the integer to a float. Explicit type casting, on the other hand, requires the programmer to manually specify the type conversion using casting functions like int() or float().\n",
        "\n",
        "Key differences:\n",
        "\n",
        "Implicit casting is automatic; explicit casting is manual.\n",
        "Implicit casting ensures no loss of data; explicit casting might result in precision loss.\n",
        "Implicit is handled by Python internally; explicit requires programmer intervention.\n",
        "11. What is the purpose of conditional statements in Python?\n",
        "- Conditional statements in Python are used to make decisions and execute specific blocks of code based on whether certain conditions are true or false. They allow programs to respond dynamically to different inputs or situations. Common conditional statements include if, else, and elif, which help control the flow of execution and implement logic effectively.\n",
        "\n",
        "12. How does the elif statement work?\n",
        "- The elif statement in Python stands for “else if” and is used to check multiple conditions sequentially. If the initial if condition evaluates to False, the program checks the elif conditions one by one until a true condition is found. If none of the conditions are true, the program executes the else block (if provided). This structure simplifies code readability and avoids excessive nesting of if statements.\n",
        "\n",
        "13. What is the difference between for and while loops?\n",
        "- The for loop iterates over a sequence (like a list, tuple, or range) for a predetermined number of iterations, while the while loop continues execution as long as a specified condition remains true.\n",
        "Key differences:\n",
        "\n",
        "Iteration Control: for is used for definite loops; while is used for indefinite loops.\n",
        "Condition: for iterates through elements; while depends on a condition.\n",
        "Usage: for is suitable for sequences; while is used for conditions not tied to a sequence.\n",
        "Predictability: for has a fixed iteration count; while can potentially run infinitely.\n",
        "Syntax: for involves iterable objects; while uses logical conditions.\n",
        "14. Describe a scenario where a while loop is more suitable than a for loop.\n",
        "- A while loop is more suitable when the number of iterations is not known beforehand, and the loop depends on a condition. For example, a program that keeps asking a user to guess a number until the correct number is guessed would use a while loop. This is because the number of attempts cannot be determined in advance, and the loop must continue until the user provides the correct input.\n",
        "\n"
      ],
      "metadata": {
        "id": "tJp5EMdKsdMX"
      }
    },
    {
      "cell_type": "markdown",
      "source": [
        "#Python Basics Practical"
      ],
      "metadata": {
        "id": "AJ8zFk7hxJGu"
      }
    },
    {
      "cell_type": "code",
      "source": [
        "#Write a Python program to print \"Hello, World!_\n",
        "print(\"Hello, world!\")"
      ],
      "metadata": {
        "colab": {
          "base_uri": "https://localhost:8080/"
        },
        "id": "_nphS2u0w4KC",
        "outputId": "cc42329a-9e4e-4d2a-b55f-7de0b023e86f"
      },
      "execution_count": 1,
      "outputs": [
        {
          "output_type": "stream",
          "name": "stdout",
          "text": [
            "Hello, world!\n"
          ]
        }
      ]
    },
    {
      "cell_type": "code",
      "source": [
        "# Write a Python program that displays your name and age\n",
        "\n",
        "name = \"Monika\"\n",
        "age = 22\n",
        "\n",
        "print(\"Name:\", name)\n",
        "print(\"Age:\", age)\n"
      ],
      "metadata": {
        "colab": {
          "base_uri": "https://localhost:8080/"
        },
        "id": "V1i35bbz1Oss",
        "outputId": "79a81416-40d9-4662-943c-87caadba5726"
      },
      "execution_count": 2,
      "outputs": [
        {
          "output_type": "stream",
          "name": "stdout",
          "text": [
            "Name: Monika\n",
            "Age: 22\n"
          ]
        }
      ]
    },
    {
      "cell_type": "code",
      "source": [
        "#Write code to print all the pre-defined keywords in Python using the keyword library\n",
        "import keyword\n",
        "\n",
        "print(\"Pre-defined keywords in Python:\")\n",
        "print(keyword.kwlist)\n"
      ],
      "metadata": {
        "colab": {
          "base_uri": "https://localhost:8080/"
        },
        "id": "oFPwUOJR4NKM",
        "outputId": "1b790fc8-b216-41b6-ae6a-a34df4161f39"
      },
      "execution_count": 4,
      "outputs": [
        {
          "output_type": "stream",
          "name": "stdout",
          "text": [
            "Pre-defined keywords in Python:\n",
            "['False', 'None', 'True', 'and', 'as', 'assert', 'async', 'await', 'break', 'class', 'continue', 'def', 'del', 'elif', 'else', 'except', 'finally', 'for', 'from', 'global', 'if', 'import', 'in', 'is', 'lambda', 'nonlocal', 'not', 'or', 'pass', 'raise', 'return', 'try', 'while', 'with', 'yield']\n"
          ]
        }
      ]
    },
    {
      "cell_type": "code",
      "source": [
        "#Write a program that checks if a given word is a Python keyword\n",
        "import keyword\n",
        "\n",
        "word = input(\"Enter a word to check if it is a Python keyword: \")\n",
        "\n",
        "if keyword.iskeyword(word):\n",
        "    print(f\"'{word}' is a Python keyword.\")\n",
        "else:\n",
        "    print(f\"'{word}' is not a Python keyword.\")\n"
      ],
      "metadata": {
        "colab": {
          "base_uri": "https://localhost:8080/"
        },
        "id": "3vIJXYo24e4X",
        "outputId": "5471d0c1-805d-432f-dc1d-621caffaae48"
      },
      "execution_count": 5,
      "outputs": [
        {
          "output_type": "stream",
          "name": "stdout",
          "text": [
            "Enter a word to check if it is a Python keyword: if\n",
            "'if' is a Python keyword.\n"
          ]
        }
      ]
    },
    {
      "cell_type": "code",
      "source": [
        "#Create a list and tuple in Python, and demonstrate how attempting to change an element works differently\n",
        "for each\n",
        "\n",
        "my_list = [1, 2, 3]\n",
        "my_tuple = (4, 5, 6)\n",
        "\n",
        "print(\"Original list:\", my_list)\n",
        "my_list[1] = 10\n",
        "print(\"Modified list:\", my_list)\n",
        "\n",
        "\n",
        "print(\"Original tuple:\", my_tuple)\n",
        "try:\n",
        "    my_tuple[1] = 20\n",
        "except TypeError as e:\n",
        "    print(\"Error while modifying tuple:\", e)\n"
      ],
      "metadata": {
        "colab": {
          "base_uri": "https://localhost:8080/",
          "height": 106
        },
        "id": "nitWC68-5ZKF",
        "outputId": "6503f51c-aeda-4961-d2aa-61a056e0ef93"
      },
      "execution_count": 6,
      "outputs": [
        {
          "output_type": "error",
          "ename": "SyntaxError",
          "evalue": "invalid syntax (<ipython-input-6-5c348afd947e>, line 2)",
          "traceback": [
            "\u001b[0;36m  File \u001b[0;32m\"<ipython-input-6-5c348afd947e>\"\u001b[0;36m, line \u001b[0;32m2\u001b[0m\n\u001b[0;31m    for each\u001b[0m\n\u001b[0m            ^\u001b[0m\n\u001b[0;31mSyntaxError\u001b[0m\u001b[0;31m:\u001b[0m invalid syntax\n"
          ]
        }
      ]
    },
    {
      "cell_type": "code",
      "source": [
        "#Write a function to demonstrate the behavior of mutable and immutable arguments\n",
        "\n",
        "def modify_arguments(immutable_arg, mutable_arg):\n",
        "    print(\"Inside function:\")\n",
        "\n",
        "    immutable_arg += 10\n",
        "    print(\"Immutable argument after modification:\", immutable_arg)\n",
        "\n",
        "\n",
        "    mutable_arg.append(100)\n",
        "    print(\"Mutable argument after modification:\", mutable_arg)\n",
        "\n",
        "\n",
        "# Main program\n",
        "immutable_val = 5  # Integer (immutable)\n",
        "mutable_val = [1, 2, 3]  # List (mutable)\n",
        "\n",
        "print(\"Before function call:\")\n",
        "print(\"Immutable argument:\", immutable_val)\n",
        "print(\"Mutable argument:\", mutable_val)\n",
        "\n",
        "# Call the function\n",
        "modify_arguments(immutable_val, mutable_val)\n",
        "\n",
        "print(\"\\nAfter function call:\")\n",
        "print(\"Immutable argument:\", immutable_val)\n",
        "print(\"Mutable argument:\", mutable_val)\n"
      ],
      "metadata": {
        "colab": {
          "base_uri": "https://localhost:8080/"
        },
        "id": "uoPbq-Q062bR",
        "outputId": "44a81a7b-db87-4cd0-a51b-0342cfd0153a"
      },
      "execution_count": 7,
      "outputs": [
        {
          "output_type": "stream",
          "name": "stdout",
          "text": [
            "Before function call:\n",
            "Immutable argument: 5\n",
            "Mutable argument: [1, 2, 3]\n",
            "Inside function:\n",
            "Immutable argument after modification: 15\n",
            "Mutable argument after modification: [1, 2, 3, 100]\n",
            "\n",
            "After function call:\n",
            "Immutable argument: 5\n",
            "Mutable argument: [1, 2, 3, 100]\n"
          ]
        }
      ]
    },
    {
      "cell_type": "code",
      "source": [
        "#Write a program to demonstrate the use of logical operators\n",
        "\n",
        "\n",
        "# Variables\n",
        "a = True\n",
        "b = False\n",
        "c = 10\n",
        "d = 20\n",
        "\n",
        "# Using 'and' operator\n",
        "print(\"Using 'and' operator:\")\n",
        "print(f\"a and b: {a and b}\")\n",
        "print(f\"(c < d) and (d > 15): {(c < d) and (d > 15)}\")\n",
        "\n",
        "# Using 'or' operator\n",
        "print(\"\\nUsing 'or' operator:\")\n",
        "print(f\"a or b: {a or b}\")\n",
        "print(f\"(c > d) or (d > 15): {(c > d) or (d > 15)}\")\n",
        "\n",
        "# Using 'not' operator\n",
        "print(\"\\nUsing 'not' operator:\")\n",
        "print(f\"not a: {not a}\")\n"
      ],
      "metadata": {
        "colab": {
          "base_uri": "https://localhost:8080/"
        },
        "id": "Yvs8raAX7pnY",
        "outputId": "9080e448-be46-47a2-e8e7-798371487f50"
      },
      "execution_count": 8,
      "outputs": [
        {
          "output_type": "stream",
          "name": "stdout",
          "text": [
            "Using 'and' operator:\n",
            "a and b: False\n",
            "(c < d) and (d > 15): True\n",
            "\n",
            "Using 'or' operator:\n",
            "a or b: True\n",
            "(c > d) or (d > 15): True\n",
            "\n",
            "Using 'not' operator:\n",
            "not a: False\n"
          ]
        }
      ]
    },
    {
      "cell_type": "code",
      "source": [
        "#0 Write a Python program to convert user input from string to integer, float, and boolean types\n",
        "\n",
        "user_input = input(\"Enter a value: \")\n",
        "\n",
        "# Convert to integer\n",
        "try:\n",
        "    int_value = int(user_input)\n",
        "    print(f\"Converted to integer: {int_value}\")\n",
        "except ValueError:\n",
        "    print(f\"Cannot convert '{user_input}' to an integer.\")\n",
        "\n",
        "# Convert to float\n",
        "try:\n",
        "    float_value = float(user_input)\n",
        "    print(f\"Converted to float: {float_value}\")\n",
        "except ValueError:\n",
        "    print(f\"Cannot convert '{user_input}' to a float.\")\n",
        "\n",
        "# Convert to boolean\n",
        "bool_value = bool(user_input)\n",
        "print(f\"Converted to boolean: {bool_value}\")\n"
      ],
      "metadata": {
        "colab": {
          "base_uri": "https://localhost:8080/"
        },
        "id": "7OX7bHC-8Kro",
        "outputId": "08f024f8-4567-4b52-ff29-dab0fb4c3290"
      },
      "execution_count": 9,
      "outputs": [
        {
          "output_type": "stream",
          "name": "stdout",
          "text": [
            "Enter a value: 123\n",
            "Converted to integer: 123\n",
            "Converted to float: 123.0\n",
            "Converted to boolean: True\n"
          ]
        }
      ]
    },
    {
      "cell_type": "code",
      "source": [
        "#Write code to demonstrate type casting with list elements\n",
        "\n",
        "my_list = [\"10\", \"20.5\", \"True\", \"45\", \"67.89\"]\n",
        "\n",
        "\n",
        "# Convert all elements to integers\n",
        "int_list = [int(float(item)) if item.replace('.', '', 1).isdigit() else 0 for item in my_list]\n",
        "print(\"List with integer elements:\", int_list)\n",
        "\n",
        "# Convert all elements to floats\n",
        "float_list = [float(item) if item.replace('.', '', 1).isdigit() else 0.0 for item in my_list]\n",
        "print(\"List with float elements:\", float_list)\n",
        "\n",
        "# Convert all elements to booleans\n",
        "bool_list = [bool(item) for item in my_list]\n",
        "print(\"List with boolean elements:\", bool_list)\n",
        "\n",
        "# Convert all elements to strings\n",
        "str_list = [str(item) for item in my_list]\n",
        "print(\"List with string elements:\", str_list)\n"
      ],
      "metadata": {
        "colab": {
          "base_uri": "https://localhost:8080/"
        },
        "id": "W2KxJcRe9Bo7",
        "outputId": "309a3f23-9977-41f4-a8cb-59eb9eef44b7"
      },
      "execution_count": 10,
      "outputs": [
        {
          "output_type": "stream",
          "name": "stdout",
          "text": [
            "List with integer elements: [10, 20, 0, 45, 67]\n",
            "List with float elements: [10.0, 20.5, 0.0, 45.0, 67.89]\n",
            "List with boolean elements: [True, True, True, True, True]\n",
            "List with string elements: ['10', '20.5', 'True', '45', '67.89']\n"
          ]
        }
      ]
    },
    {
      "cell_type": "code",
      "source": [
        "# Write a program that checks if a number is positive, negative, or zero\n",
        "\n",
        "num = float(input(\"Enter a number: \"))\n",
        "\n",
        "\n",
        "if num > 0:\n",
        "    print(f\"{num} is positive.\")\n",
        "elif num < 0:\n",
        "    print(f\"{num} is negative.\")\n",
        "else:\n",
        "    print(f\"{num} is zero.\")\n"
      ],
      "metadata": {
        "colab": {
          "base_uri": "https://localhost:8080/"
        },
        "id": "yic7lex39wWs",
        "outputId": "71759c0b-8cd0-4bba-93e5-48bcdbc8d6ae"
      },
      "execution_count": 11,
      "outputs": [
        {
          "output_type": "stream",
          "name": "stdout",
          "text": [
            "Enter a number: 5\n",
            "5.0 is positive.\n"
          ]
        }
      ]
    },
    {
      "cell_type": "code",
      "source": [
        "# Using a for loop to print numbers from 1 to 10\n",
        "# Using a for loop to print numbers from 1 to 10\n",
        "for num in range(1, 11):\n",
        "    print(num)\n",
        "\n",
        "\n"
      ],
      "metadata": {
        "colab": {
          "base_uri": "https://localhost:8080/"
        },
        "id": "MuXHZSix-5lj",
        "outputId": "052e2036-e4c6-4c03-aca2-050bb57d783b"
      },
      "execution_count": 13,
      "outputs": [
        {
          "output_type": "stream",
          "name": "stdout",
          "text": [
            "1\n",
            "2\n",
            "3\n",
            "4\n",
            "5\n",
            "6\n",
            "7\n",
            "8\n",
            "9\n",
            "10\n"
          ]
        }
      ]
    },
    {
      "cell_type": "code",
      "source": [
        "#Write a Python program to find the sum of all even numbers between 1 and 50\n",
        "sum_even = 0\n",
        "\n",
        "for num in range(1, 51):\n",
        "\n",
        "    if num % 2 == 0:\n",
        "        sum_even += num\n",
        "\n",
        "print(\"Sum of all even numbers between 1 and 50:\", sum_even)\n"
      ],
      "metadata": {
        "colab": {
          "base_uri": "https://localhost:8080/"
        },
        "id": "o2ODYdaO_nuH",
        "outputId": "214785d3-3b9e-41fe-d255-a36229c036bb"
      },
      "execution_count": 14,
      "outputs": [
        {
          "output_type": "stream",
          "name": "stdout",
          "text": [
            "Sum of all even numbers between 1 and 50: 650\n"
          ]
        }
      ]
    },
    {
      "cell_type": "code",
      "source": [
        "# Write a program to reverse a string using a while loop\n",
        "def reverse_string(input_string):\n",
        "    reversed_string = \"\"\n",
        "    index = len(input_string) - 1\n",
        "\n",
        "\n",
        "    while index >= 0:\n",
        "        reversed_string += input_string[index]\n",
        "        index -= 1\n",
        "\n",
        "    return reversed_string\n",
        "user_input = input(\"Enter a string: \")\n",
        "\n",
        "reversed_str = reverse_string(user_input)\n",
        "print(\"Reversed string:\", reversed_str)\n",
        "\n"
      ],
      "metadata": {
        "colab": {
          "base_uri": "https://localhost:8080/"
        },
        "id": "9KfcL086AFQl",
        "outputId": "1262a7aa-d6ab-4c1c-987d-ba8ea5fc3b20"
      },
      "execution_count": 15,
      "outputs": [
        {
          "output_type": "stream",
          "name": "stdout",
          "text": [
            "Enter a string: hello\n",
            "Reversed string: olleh\n"
          ]
        }
      ]
    },
    {
      "cell_type": "code",
      "source": [
        "# Write a Python program to calculate the factorial of a number provided by the user using a while loop.\n",
        "\n",
        "def calculate_factorial(n):\n",
        "    factorial = 1\n",
        "    while n > 1:\n",
        "        factorial *= n\n",
        "        n -= 1\n",
        "    return factorial\n",
        "\n",
        "\n",
        "num = int(input(\"Enter a number to calculate its factorial: \"))\n",
        "\n",
        "\n",
        "if num < 0:\n",
        "    print(\"Factorial is not defined for negative numbers.\")\n",
        "else:\n",
        "\n",
        "    result = calculate_factorial(num)\n",
        "    print(f\"The factorial of {num} is: {result}\")\n"
      ],
      "metadata": {
        "colab": {
          "base_uri": "https://localhost:8080/"
        },
        "id": "VS3uz9qpA7Rg",
        "outputId": "c64d0333-4a33-4623-b2b9-1adad43127d3"
      },
      "execution_count": 16,
      "outputs": [
        {
          "output_type": "stream",
          "name": "stdout",
          "text": [
            "Enter a number to calculate its factorial: 5\n",
            "The factorial of 5 is: 120\n"
          ]
        }
      ]
    }
  ]
}